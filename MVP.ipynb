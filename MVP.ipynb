{
 "cells": [
  {
   "cell_type": "code",
   "execution_count": 52,
   "id": "10d8b13b",
   "metadata": {},
   "outputs": [],
   "source": [
    "import matplotlib.pyplot as plt\n",
    "import pandas as pd\n",
    "import numpy as np"
   ]
  },
  {
   "cell_type": "code",
   "execution_count": 53,
   "id": "346a05f6",
   "metadata": {},
   "outputs": [],
   "source": [
    "df = pd.read_csv(r'C:\\Users\\surface laptop\\Desktop\\Goods 1.csv')"
   ]
  },
  {
   "cell_type": "code",
   "execution_count": 54,
   "id": "3e80055d",
   "metadata": {},
   "outputs": [
    {
     "name": "stdout",
     "output_type": "stream",
     "text": [
      "<class 'pandas.core.frame.DataFrame'>\n",
      "RangeIndex: 12223 entries, 0 to 12222\n",
      "Data columns (total 7 columns):\n",
      " #   Column        Non-Null Count  Dtype  \n",
      "---  ------        --------------  -----  \n",
      " 0   time_ref      12223 non-null  int64  \n",
      " 1   account       12223 non-null  object \n",
      " 2   code          12223 non-null  object \n",
      " 3   country_code  12213 non-null  object \n",
      " 4   product_type  12223 non-null  object \n",
      " 5   value         11690 non-null  float64\n",
      " 6   status        12223 non-null  object \n",
      "dtypes: float64(1), int64(1), object(5)\n",
      "memory usage: 668.6+ KB\n"
     ]
    }
   ],
   "source": [
    "df.info()"
   ]
  },
  {
   "cell_type": "code",
   "execution_count": 55,
   "id": "4a93575c",
   "metadata": {},
   "outputs": [
    {
     "data": {
      "text/html": [
       "<div>\n",
       "<style scoped>\n",
       "    .dataframe tbody tr th:only-of-type {\n",
       "        vertical-align: middle;\n",
       "    }\n",
       "\n",
       "    .dataframe tbody tr th {\n",
       "        vertical-align: top;\n",
       "    }\n",
       "\n",
       "    .dataframe thead th {\n",
       "        text-align: right;\n",
       "    }\n",
       "</style>\n",
       "<table border=\"1\" class=\"dataframe\">\n",
       "  <thead>\n",
       "    <tr style=\"text-align: right;\">\n",
       "      <th></th>\n",
       "      <th>time_ref</th>\n",
       "      <th>account</th>\n",
       "      <th>code</th>\n",
       "      <th>country_code</th>\n",
       "      <th>product_type</th>\n",
       "      <th>value</th>\n",
       "      <th>status</th>\n",
       "    </tr>\n",
       "  </thead>\n",
       "  <tbody>\n",
       "    <tr>\n",
       "      <th>0</th>\n",
       "      <td>202106</td>\n",
       "      <td>Exports</td>\n",
       "      <td>0</td>\n",
       "      <td>AE</td>\n",
       "      <td>Goods</td>\n",
       "      <td>246837046.0</td>\n",
       "      <td>F</td>\n",
       "    </tr>\n",
       "    <tr>\n",
       "      <th>1</th>\n",
       "      <td>202106</td>\n",
       "      <td>Exports</td>\n",
       "      <td>0</td>\n",
       "      <td>AF</td>\n",
       "      <td>Goods</td>\n",
       "      <td>9118.0</td>\n",
       "      <td>F</td>\n",
       "    </tr>\n",
       "    <tr>\n",
       "      <th>2</th>\n",
       "      <td>202106</td>\n",
       "      <td>Exports</td>\n",
       "      <td>0</td>\n",
       "      <td>AG</td>\n",
       "      <td>Goods</td>\n",
       "      <td>113843.0</td>\n",
       "      <td>F</td>\n",
       "    </tr>\n",
       "    <tr>\n",
       "      <th>3</th>\n",
       "      <td>202106</td>\n",
       "      <td>Exports</td>\n",
       "      <td>0</td>\n",
       "      <td>AI</td>\n",
       "      <td>Goods</td>\n",
       "      <td>129290.0</td>\n",
       "      <td>F</td>\n",
       "    </tr>\n",
       "    <tr>\n",
       "      <th>4</th>\n",
       "      <td>202106</td>\n",
       "      <td>Exports</td>\n",
       "      <td>0</td>\n",
       "      <td>AL</td>\n",
       "      <td>Goods</td>\n",
       "      <td>1370.0</td>\n",
       "      <td>F</td>\n",
       "    </tr>\n",
       "  </tbody>\n",
       "</table>\n",
       "</div>"
      ],
      "text/plain": [
       "   time_ref  account code country_code product_type        value status\n",
       "0    202106  Exports    0           AE        Goods  246837046.0      F\n",
       "1    202106  Exports    0           AF        Goods       9118.0      F\n",
       "2    202106  Exports    0           AG        Goods     113843.0      F\n",
       "3    202106  Exports    0           AI        Goods     129290.0      F\n",
       "4    202106  Exports    0           AL        Goods       1370.0      F"
      ]
     },
     "execution_count": 55,
     "metadata": {},
     "output_type": "execute_result"
    }
   ],
   "source": [
    "df.head()"
   ]
  },
  {
   "cell_type": "code",
   "execution_count": 56,
   "id": "fde13c07",
   "metadata": {},
   "outputs": [
    {
     "data": {
      "text/html": [
       "<div>\n",
       "<style scoped>\n",
       "    .dataframe tbody tr th:only-of-type {\n",
       "        vertical-align: middle;\n",
       "    }\n",
       "\n",
       "    .dataframe tbody tr th {\n",
       "        vertical-align: top;\n",
       "    }\n",
       "\n",
       "    .dataframe thead th {\n",
       "        text-align: right;\n",
       "    }\n",
       "</style>\n",
       "<table border=\"1\" class=\"dataframe\">\n",
       "  <thead>\n",
       "    <tr style=\"text-align: right;\">\n",
       "      <th></th>\n",
       "      <th>time_ref</th>\n",
       "      <th>value</th>\n",
       "    </tr>\n",
       "  </thead>\n",
       "  <tbody>\n",
       "    <tr>\n",
       "      <th>count</th>\n",
       "      <td>12223.000000</td>\n",
       "      <td>1.169000e+04</td>\n",
       "    </tr>\n",
       "    <tr>\n",
       "      <th>mean</th>\n",
       "      <td>202067.809376</td>\n",
       "      <td>1.043103e+07</td>\n",
       "    </tr>\n",
       "    <tr>\n",
       "      <th>std</th>\n",
       "      <td>46.168921</td>\n",
       "      <td>2.615340e+08</td>\n",
       "    </tr>\n",
       "    <tr>\n",
       "      <th>min</th>\n",
       "      <td>202012.000000</td>\n",
       "      <td>1.000000e+00</td>\n",
       "    </tr>\n",
       "    <tr>\n",
       "      <th>25%</th>\n",
       "      <td>202012.000000</td>\n",
       "      <td>3.655000e+03</td>\n",
       "    </tr>\n",
       "    <tr>\n",
       "      <th>50%</th>\n",
       "      <td>202106.000000</td>\n",
       "      <td>3.851200e+04</td>\n",
       "    </tr>\n",
       "    <tr>\n",
       "      <th>75%</th>\n",
       "      <td>202106.000000</td>\n",
       "      <td>3.461320e+05</td>\n",
       "    </tr>\n",
       "    <tr>\n",
       "      <th>max</th>\n",
       "      <td>202106.000000</td>\n",
       "      <td>1.558938e+10</td>\n",
       "    </tr>\n",
       "  </tbody>\n",
       "</table>\n",
       "</div>"
      ],
      "text/plain": [
       "            time_ref         value\n",
       "count   12223.000000  1.169000e+04\n",
       "mean   202067.809376  1.043103e+07\n",
       "std        46.168921  2.615340e+08\n",
       "min    202012.000000  1.000000e+00\n",
       "25%    202012.000000  3.655000e+03\n",
       "50%    202106.000000  3.851200e+04\n",
       "75%    202106.000000  3.461320e+05\n",
       "max    202106.000000  1.558938e+10"
      ]
     },
     "execution_count": 56,
     "metadata": {},
     "output_type": "execute_result"
    }
   ],
   "source": [
    "df.describe()"
   ]
  },
  {
   "cell_type": "code",
   "execution_count": 63,
   "id": "af345a0d",
   "metadata": {},
   "outputs": [
    {
     "ename": "SyntaxError",
     "evalue": "invalid syntax (<ipython-input-63-62535b3e6353>, line 1)",
     "output_type": "error",
     "traceback": [
      "\u001b[1;36m  File \u001b[1;32m\"<ipython-input-63-62535b3e6353>\"\u001b[1;36m, line \u001b[1;32m1\u001b[0m\n\u001b[1;33m    dfif country_code\u001b[0m\n\u001b[1;37m         ^\u001b[0m\n\u001b[1;31mSyntaxError\u001b[0m\u001b[1;31m:\u001b[0m invalid syntax\n"
     ]
    }
   ],
   "source": [
    "dfif country_code \n",
    "numbers = {'mynumbers': [AE,AF,AG,AI,AL,AM,AO,AR,AS,AT,AU,AW,AZ,BA,BB,BD,BE,BF,BG,BH,,BJ,BM,]},\n",
    "df = DataFrame(numbers, columns =['mynumbers'])\n",
    " \n",
    "df.loc[df['mynumbers'] == 'goods', == 'services'] = 'True'\n",
    "df.loc[df['mynumbers'] != 'goods', '!= 'services'] = 'False'"
   ]
  },
  {
   "cell_type": "code",
   "execution_count": 57,
   "id": "7a794a3b",
   "metadata": {},
   "outputs": [
    {
     "data": {
      "text/html": [
       "<div>\n",
       "<style scoped>\n",
       "    .dataframe tbody tr th:only-of-type {\n",
       "        vertical-align: middle;\n",
       "    }\n",
       "\n",
       "    .dataframe tbody tr th {\n",
       "        vertical-align: top;\n",
       "    }\n",
       "\n",
       "    .dataframe thead th {\n",
       "        text-align: right;\n",
       "    }\n",
       "</style>\n",
       "<table border=\"1\" class=\"dataframe\">\n",
       "  <thead>\n",
       "    <tr style=\"text-align: right;\">\n",
       "      <th></th>\n",
       "      <th>time_ref</th>\n",
       "      <th>account</th>\n",
       "      <th>code</th>\n",
       "      <th>product_type</th>\n",
       "      <th>value</th>\n",
       "      <th>status</th>\n",
       "    </tr>\n",
       "    <tr>\n",
       "      <th>country_code</th>\n",
       "      <th></th>\n",
       "      <th></th>\n",
       "      <th></th>\n",
       "      <th></th>\n",
       "      <th></th>\n",
       "      <th></th>\n",
       "    </tr>\n",
       "  </thead>\n",
       "  <tbody>\n",
       "    <tr>\n",
       "      <th>AE</th>\n",
       "      <td>202106</td>\n",
       "      <td>Imports</td>\n",
       "      <td>A1209</td>\n",
       "      <td>Services</td>\n",
       "      <td>246837046.0</td>\n",
       "      <td>R</td>\n",
       "    </tr>\n",
       "    <tr>\n",
       "      <th>AF</th>\n",
       "      <td>202106</td>\n",
       "      <td>Imports</td>\n",
       "      <td>A120423</td>\n",
       "      <td>Services</td>\n",
       "      <td>1283422.0</td>\n",
       "      <td>R</td>\n",
       "    </tr>\n",
       "    <tr>\n",
       "      <th>AG</th>\n",
       "      <td>202106</td>\n",
       "      <td>Imports</td>\n",
       "      <td>9701</td>\n",
       "      <td>Goods</td>\n",
       "      <td>113843.0</td>\n",
       "      <td>F</td>\n",
       "    </tr>\n",
       "    <tr>\n",
       "      <th>AI</th>\n",
       "      <td>202106</td>\n",
       "      <td>Exports</td>\n",
       "      <td>0</td>\n",
       "      <td>Goods</td>\n",
       "      <td>129290.0</td>\n",
       "      <td>F</td>\n",
       "    </tr>\n",
       "    <tr>\n",
       "      <th>AL</th>\n",
       "      <td>202106</td>\n",
       "      <td>Imports</td>\n",
       "      <td>A120423</td>\n",
       "      <td>Services</td>\n",
       "      <td>71226.0</td>\n",
       "      <td>R</td>\n",
       "    </tr>\n",
       "    <tr>\n",
       "      <th>...</th>\n",
       "      <td>...</td>\n",
       "      <td>...</td>\n",
       "      <td>...</td>\n",
       "      <td>...</td>\n",
       "      <td>...</td>\n",
       "      <td>...</td>\n",
       "    </tr>\n",
       "    <tr>\n",
       "      <th>ZE</th>\n",
       "      <td>202106</td>\n",
       "      <td>Imports</td>\n",
       "      <td>A1209</td>\n",
       "      <td>Services</td>\n",
       "      <td>425044627.0</td>\n",
       "      <td>F</td>\n",
       "    </tr>\n",
       "    <tr>\n",
       "      <th>ZM</th>\n",
       "      <td>202106</td>\n",
       "      <td>Imports</td>\n",
       "      <td>A120423</td>\n",
       "      <td>Services</td>\n",
       "      <td>116308.0</td>\n",
       "      <td>R</td>\n",
       "    </tr>\n",
       "    <tr>\n",
       "      <th>ZP</th>\n",
       "      <td>202106</td>\n",
       "      <td>Exports</td>\n",
       "      <td>0</td>\n",
       "      <td>Goods</td>\n",
       "      <td>6680011.0</td>\n",
       "      <td>F</td>\n",
       "    </tr>\n",
       "    <tr>\n",
       "      <th>ZS</th>\n",
       "      <td>202106</td>\n",
       "      <td>Exports</td>\n",
       "      <td>0</td>\n",
       "      <td>Goods</td>\n",
       "      <td>4820723.0</td>\n",
       "      <td>F</td>\n",
       "    </tr>\n",
       "    <tr>\n",
       "      <th>ZW</th>\n",
       "      <td>202106</td>\n",
       "      <td>Imports</td>\n",
       "      <td>A120423</td>\n",
       "      <td>Services</td>\n",
       "      <td>1192428.0</td>\n",
       "      <td>R</td>\n",
       "    </tr>\n",
       "  </tbody>\n",
       "</table>\n",
       "<p>227 rows × 6 columns</p>\n",
       "</div>"
      ],
      "text/plain": [
       "              time_ref  account     code product_type        value status\n",
       "country_code                                                             \n",
       "AE              202106  Imports    A1209     Services  246837046.0      R\n",
       "AF              202106  Imports  A120423     Services    1283422.0      R\n",
       "AG              202106  Imports     9701        Goods     113843.0      F\n",
       "AI              202106  Exports        0        Goods     129290.0      F\n",
       "AL              202106  Imports  A120423     Services      71226.0      R\n",
       "...                ...      ...      ...          ...          ...    ...\n",
       "ZE              202106  Imports    A1209     Services  425044627.0      F\n",
       "ZM              202106  Imports  A120423     Services     116308.0      R\n",
       "ZP              202106  Exports        0        Goods    6680011.0      F\n",
       "ZS              202106  Exports        0        Goods    4820723.0      F\n",
       "ZW              202106  Imports  A120423     Services    1192428.0      R\n",
       "\n",
       "[227 rows x 6 columns]"
      ]
     },
     "execution_count": 57,
     "metadata": {},
     "output_type": "execute_result"
    }
   ],
   "source": [
    "df.groupby(['country_code']).max()"
   ]
  },
  {
   "cell_type": "code",
   "execution_count": 58,
   "id": "1a432b1b",
   "metadata": {},
   "outputs": [
    {
     "data": {
      "text/plain": [
       "array(['Exports', 'Imports'], dtype=object)"
      ]
     },
     "execution_count": 58,
     "metadata": {},
     "output_type": "execute_result"
    }
   ],
   "source": [
    "df['account'].unique()"
   ]
  },
  {
   "cell_type": "code",
   "execution_count": 59,
   "id": "715f7268",
   "metadata": {},
   "outputs": [
    {
     "data": {
      "text/plain": [
       "12213"
      ]
     },
     "execution_count": 59,
     "metadata": {},
     "output_type": "execute_result"
    }
   ],
   "source": [
    "df['country_code'].value_counts().sum()"
   ]
  },
  {
   "cell_type": "code",
   "execution_count": null,
   "id": "12d158ee",
   "metadata": {},
   "outputs": [],
   "source": []
  },
  {
   "cell_type": "code",
   "execution_count": null,
   "id": "5ec0c494",
   "metadata": {},
   "outputs": [],
   "source": []
  }
 ],
 "metadata": {
  "kernelspec": {
   "display_name": "Python 3",
   "language": "python",
   "name": "python3"
  },
  "language_info": {
   "codemirror_mode": {
    "name": "ipython",
    "version": 3
   },
   "file_extension": ".py",
   "mimetype": "text/x-python",
   "name": "python",
   "nbconvert_exporter": "python",
   "pygments_lexer": "ipython3",
   "version": "3.8.8"
  }
 },
 "nbformat": 4,
 "nbformat_minor": 5
}
